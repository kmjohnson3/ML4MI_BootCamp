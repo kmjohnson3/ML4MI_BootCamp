{
 "cells": [
  {
   "cell_type": "markdown",
   "metadata": {
    "colab_type": "text",
    "id": "view-in-github"
   },
   "source": [
    "<a href=\"https://colab.research.google.com/github/kmjohnson3/ML4MI_Bootcamp_Development/blob/master/ImageSegmentation/SegmentationBootcamp_Master__broken.ipynb\" target=\"_parent\"><img src=\"https://colab.research.google.com/assets/colab-badge.svg\" alt=\"Open In Colab\"/></a>"
   ]
  },
  {
   "cell_type": "markdown",
   "metadata": {
    "colab_type": "text",
    "id": "2KX46C7E0UNn"
   },
   "source": [
    "# Introduction\n",
    "This tutorial will give an example application of using deep learning for medical image segmentation. This example will demonstrate how to train a convolutional neural network for the purpose of lung segmentation in CT images. The tutorial will have 3 main parts:\n",
    "1. Loading and examining data for model training\n",
    "2. Creating, training, and evaluating a deep learning segmentation model\n",
    "3. Making improvements to the model with skip connections\n",
    "\n",
    "Keep an eye out for questions through this demo to test your new DL knowledge and critical thinking. There are answers at the end of the document."
   ]
  },
  {
   "cell_type": "markdown",
   "metadata": {
    "colab_type": "text",
    "id": "aA5x8w1J0UNo"
   },
   "source": [
    "### Initial preparation"
   ]
  },
  {
   "cell_type": "markdown",
   "metadata": {
    "colab_type": "text",
    "id": "J1_ONBCG0UNo"
   },
   "source": [
    "Import necessary modules. We also need to install the Python package PyDicom"
   ]
  },
  {
   "cell_type": "code",
   "execution_count": null,
   "metadata": {
    "colab": {
     "base_uri": "https://localhost:8080/",
     "height": 34
    },
    "colab_type": "code",
    "id": "-QzVX9iz0UNp",
    "outputId": "35933a02-e194-412b-ebd6-91df25acb7b7"
   },
   "outputs": [],
   "source": [
    "import os # operating system operations \n",
    "os.environ[\"TF_CPP_MIN_LOG_LEVEL\"]=\"3\"\n",
    "import tensorflow as tf\n",
    "import matplotlib.pyplot as plt # for plotting our results\n",
    "\n",
    "import numpy as np\n",
    "np.random.seed(1) # set seed for random number generator\n",
    "\n",
    "!pip install pydicom"
   ]
  },
  {
   "cell_type": "markdown",
   "metadata": {
    "colab_type": "text",
    "id": "GpPvW5ZW0UNs"
   },
   "source": [
    "Next, we need to copy the files to a place where our CoLab notebook can read them."
   ]
  },
  {
   "cell_type": "code",
   "execution_count": null,
   "metadata": {
    "colab": {
     "base_uri": "https://localhost:8080/",
     "height": 70
    },
    "colab_type": "code",
    "id": "rMUfGgtR0rZG",
    "outputId": "1ca7cb9f-409a-4b1f-a8df-3f2709805a35"
   },
   "outputs": [],
   "source": [
    "# Mount the Google Drive\n",
    "from google.colab import drive\n",
    "drive.mount('/content/drive')\n",
    "\n",
    "# Copy data to this VM\n",
    "import tarfile\n",
    "from tqdm import tqdm\n",
    "with tarfile.open(name='/content/drive/My Drive/ML4MI_BOOTCAMP_DATA/ImageSegmentation.tar') as tar:\n",
    "    for member in tqdm(iterable=tar.getmembers(), desc='Decompressing', unit='file', total=len(tar.getmembers())):\n",
    "      tar.extract(member=member,path='/home/')\n",
    "\n",
    "# Change the working folder\n",
    "%cd /home/ImageSegmentation\n",
    "    \n",
    "# Download helper function to this VM\n",
    "!wget https://raw.githubusercontent.com/kmjohnson3/ML4MI_bootcamp/master/ImageSegmentation/Demo_Functions.py"
   ]
  },
  {
   "cell_type": "markdown",
   "metadata": {
    "colab_type": "text",
    "id": "zJ2wNIPw0UNs"
   },
   "source": [
    "# Part 1: Data Preparation\n",
    "All deep learning applications start with getting the data. In this case, the data has already been collected from subjects through CT scans and annotations have been made.\n",
    "\n",
    "Additionally, we have already created a function for loading in this data in an organized way and get it ready to feed into a deep learning model for training. The data is currently stored as DICOMs in a mess of directories. This function sorts through the directories and loads in the necessary images and masks.\n",
    "\n",
    "So, we can just import this function and load the data into our various needed arrays."
   ]
  },
  {
   "cell_type": "code",
   "execution_count": null,
   "metadata": {
    "colab": {
     "base_uri": "https://localhost:8080/",
     "height": 325
    },
    "colab_type": "code",
    "id": "8XIzxaAK0UNt",
    "outputId": "c087d032-79b1-400b-f4d9-f074eba1bbb8"
   },
   "outputs": [],
   "source": [
    "from Demo_Functions import GetLungSegData\n",
    "\n",
    "trainX,trainY,valX,valY = GetLungSegData('/home/ImageSegmentation/LCTSC')"
   ]
  },
  {
   "cell_type": "markdown",
   "metadata": {
    "colab_type": "text",
    "id": "BfsSi42g0UNv"
   },
   "source": [
    "Let's examine these arrays we've loaded."
   ]
  },
  {
   "cell_type": "code",
   "execution_count": null,
   "metadata": {
    "colab": {},
    "colab_type": "code",
    "id": "_f270kUy0UNw"
   },
   "outputs": [],
   "source": [
    "print(trainX.shape)\n",
    "print(trainY.shape)\n",
    "print(valX.shape)\n",
    "print(valY.shape)"
   ]
  },
  {
   "cell_type": "markdown",
   "metadata": {
    "colab_type": "text",
    "id": "e2myYIC50UNy"
   },
   "source": [
    "We have two sets of corresponding images and masks. There are 1299 slices of 256x256 images in the training set, and 144 in the validation set.\n",
    "\n",
    "Each of these sets has a 4th dimension that has length 1. Why?\n",
    "\n",
    "Keras, and most other deep learning libraries, expects images to be in color. That is, they have R,G, and B color channels. So images are expected to be passed in as 4 dimensional arrays. In this case, we are passing in grayscale images, so they will just have a single color channel instead of 3."
   ]
  },
  {
   "cell_type": "markdown",
   "metadata": {
    "colab_type": "text",
    "id": "3FXCKR_c0UNy"
   },
   "source": [
    "##### Question 1: What could be another use for having multiple input channels?\n",
    "Hint: Think MRI."
   ]
  },
  {
   "cell_type": "markdown",
   "metadata": {
    "colab_type": "text",
    "id": "WIwIKgtp0UNz"
   },
   "source": [
    "At this point, it would be good to check that our data loaded correctly and the masks correspond to the input images. We'll using the python plotting package matplotlib to display a sample image and mask side by side for both the training and validation datasets.\n",
    "\n",
    "It's a good idea to try several different display indices to make sure all your data is lined up correctly."
   ]
  },
  {
   "cell_type": "code",
   "execution_count": null,
   "metadata": {
    "colab": {},
    "colab_type": "code",
    "id": "0qU93mMD0UN0"
   },
   "outputs": [],
   "source": [
    "# pick a random index for display\n",
    "disp_ind = 1\n",
    "# make a figure\n",
    "plt.figure()\n",
    "# concatenate the input and target image together\n",
    "disp = np.c_[trainX[disp_ind,...,0],\n",
    "             trainY[disp_ind,...,0]]\n",
    "# display image (with grayscale)\n",
    "plt.imshow(disp,cmap='gray')\n",
    "plt.show()\n",
    "# repeat for validation set\n",
    "disp_ind = 7\n",
    "plt.figure()\n",
    "# concatenate the input and target image together\n",
    "disp = np.c_[valX[disp_ind,...,0],\n",
    "             valY[disp_ind,...,0]]\n",
    "# display image (with grayscale)\n",
    "plt.imshow(disp,cmap='gray')\n",
    "plt.show()"
   ]
  },
  {
   "cell_type": "markdown",
   "metadata": {
    "colab_type": "text",
    "id": "wXMzqu0m0UN1"
   },
   "source": [
    "Looks good!"
   ]
  },
  {
   "cell_type": "markdown",
   "metadata": {
    "colab_type": "text",
    "id": "wLTW2_Ae0UN2"
   },
   "source": [
    "## Our data is now ready for training!"
   ]
  },
  {
   "cell_type": "markdown",
   "metadata": {
    "colab_type": "text",
    "id": "FfIKyxpS0UN3"
   },
   "source": [
    "# Part 2: Building a segmentation network\n",
    "\n",
    "We will build a deep convolutional neural network layer by layer, using Keras' high-level libraries that are relatively easy to work with to create exactly the network that we want.\n",
    "\n",
    "For this segmentation problem, the most common and effective networks follow a style known as 'convolutional encoder-decoder' or CED. This means that using convolutional layers we will downsample, or 'encode', our input data, and then upsample, or 'encode' back to our original input size. In this way, the convolutional layers will learn to create a mapping of our input images into a segmentation mask."
   ]
  },
  {
   "cell_type": "markdown",
   "metadata": {
    "colab_type": "text",
    "id": "yi1lcTQ50UN3"
   },
   "source": [
    "One final note before we build the model. The filters (or 'kernels') are intialized in the background by some random distribution before training. Different distributions can greatly affect how quickly the model learns, or whether it converges at all. Each task can require different intialization distributions and usually requires playing around with different options. For the models we are using today, we already did this work for you and found that the He Normal distribution is most effective (He et al., http://arxiv.org/abs/1502.01852). We will set this parameter in all the convolutional layers."
   ]
  },
  {
   "cell_type": "code",
   "execution_count": null,
   "metadata": {
    "colab": {},
    "colab_type": "code",
    "id": "ArAQs-9F0UN4"
   },
   "outputs": [],
   "source": [
    "init = 'he_normal'"
   ]
  },
  {
   "cell_type": "markdown",
   "metadata": {
    "colab_type": "text",
    "id": "GsqE6rXo0UN6"
   },
   "source": [
    "Now, let's build a segmentation model!\n",
    "\n",
    "First, import some layers we will use:"
   ]
  },
  {
   "cell_type": "code",
   "execution_count": null,
   "metadata": {
    "colab": {},
    "colab_type": "code",
    "id": "wEaRc3-i0UN7"
   },
   "outputs": [],
   "source": [
    "from keras.layers import Input\n",
    "from keras.layers import Conv2D\n",
    "from keras.layers import ZeroPadding2D\n",
    "# also, import the Model function for building the model\n",
    "from keras.models import Model"
   ]
  },
  {
   "cell_type": "markdown",
   "metadata": {
    "colab_type": "text",
    "id": "lVB9OSoh0UN9"
   },
   "source": [
    "We first need an input layer. Our input layer just needs the shape of the input we are providing. The shape dimensions are [sample,row,column,channel].\n",
    "\n",
    "For this 2D network, our samples are different slices. We don't need to provide this dimension to the input layer, since we will feed those samples in as batches during training. But we need the rest of the dimensions.\n",
    "\n",
    "Keep in mind that Python uses 0-indexing. So `[1:]` means collect all the parts of the array except the first one."
   ]
  },
  {
   "cell_type": "code",
   "execution_count": null,
   "metadata": {
    "colab": {},
    "colab_type": "code",
    "id": "tlE44TpJ0UN9"
   },
   "outputs": [],
   "source": [
    "# create our input layer by giving it an input shape\n",
    "inp = Input(shape=trainX.shape[1:])"
   ]
  },
  {
   "cell_type": "markdown",
   "metadata": {
    "colab_type": "text",
    "id": "8IjLCwlL0UN_"
   },
   "source": [
    "Now, we will add on convolutional layers"
   ]
  },
  {
   "cell_type": "markdown",
   "metadata": {
    "colab_type": "text",
    "id": "3Ws1P7mt0UOA"
   },
   "source": [
    "The syntax for adding layers to our network is:\n",
    "\n",
    "`newlayer = LayerType(layer_parameters)(input_layer)`\n",
    "\n",
    "   newlayer: the variable that stores the current output of the network.  \n",
    "   LayerType: the type of the new layer we are adding onto the network, in this case Conv2D layers.  \n",
    "   layer_parameters: the inputs we provide to define the new layer. For Conv2D layers, this is given as (number of filters, size of filters, and type of nonlinearity applied to the layer).  \n",
    "   input_layer: the previous layer that our new layer is going to be connected to.\n",
    "   \n",
    "So for example: `x = Conv2D(10,(3,3), activation='relu')(inp)` creates a 2D convolutional layer with 10 filters that are 3x3 in size. The non-linearity (activation) is a Rectified Linear Unit, and it takes 'inp' as an input and gives its output as x."
   ]
  },
  {
   "cell_type": "markdown",
   "metadata": {
    "colab_type": "text",
    "id": "bll_q2P10UOB"
   },
   "source": [
    "Without further ado, let's make a convolutional neural network!"
   ]
  },
  {
   "cell_type": "code",
   "execution_count": null,
   "metadata": {
    "colab": {},
    "colab_type": "code",
    "id": "FUFdLJsq0UOB"
   },
   "outputs": [],
   "source": [
    "# add on a couple convolutional layers\n",
    "x = Conv2D(10,kernel_size=(3,3),padding='same',activation='relu',kernel_initializer=init)(inp)\n",
    "x = Conv2D(20, kernel_size=(3,3),padding='same',activation='relu',kernel_initializer=init)(x)\n",
    "# We will have to use some specific zero padding\n",
    "# to keep our layer sizes friendly for this segmentation model\n",
    "# make a zero padding layer that does 1 pad of zeros\n",
    "# on all sides\n",
    "x = ZeroPadding2D(padding=(1,1))(x)\n",
    "# Add a strided convolution layer\n",
    "x = Conv2D(30, kernel_size=(4,4),\n",
    "                strides=(2,2),\n",
    "                activation='relu',\n",
    "                kernel_initializer=init)(x)\n",
    "# Now repeat the process, hanging onto the second layer again\n",
    "x = Conv2D(30, kernel_size=(3,3),padding='same',activation='relu',kernel_initializer=init)(x)\n",
    "x = Conv2D(40, kernel_size=(3,3),padding='same',activation='relu',kernel_initializer=init)(x)\n",
    "x = ZeroPadding2D(padding=(1,1))(x)\n",
    "x = Conv2D(40, kernel_size=(4,4),\n",
    "                strides=(2,2),\n",
    "                activation='relu',\n",
    "                kernel_initializer=init)(x)\n",
    "# We've now done 2 downsampling layers, like before.\n",
    "# Now for the decoding side of the network, we will start\n",
    "# adding skip connections\n",
    "# The first couple of layers are the same as usual.\n",
    "x = Conv2D(50, kernel_size=(3,3),padding='same',activation='relu',kernel_initializer=init)(x)\n",
    "x = Conv2D(50, kernel_size=(3,3),padding='same',activation='relu',kernel_initializer=init)(x)\n",
    "# now, we will reverse the downsampling using Transposed Convolutions, also\n",
    "# incorrectly but commonly called Deconvolution\n",
    "from keras.layers import Conv2DTranspose\n",
    "# This is now the decoding side of the network\n",
    "# The syntax is identical. However, we need the decoding side of the network to end\n",
    "# up with the same output size as our images, so the \n",
    "# precise order and size of layers matter\n",
    "x = Conv2DTranspose(40, kernel_size=(4,4),\n",
    "                        strides=(2,2),\n",
    "                        activation='relu',\n",
    "                        kernel_initializer=init)(x)\n",
    "# Mixing in regular Conv2D layers is sometimes necessary\n",
    "# for getting layer shapes to work out\n",
    "x = Conv2D(40, kernel_size=(3,3),activation='relu',kernel_initializer=init)(x)\n",
    "x = Conv2DTranspose(30, kernel_size=(3,3),padding='same',activation='relu',kernel_initializer=init)(x)\n",
    "x = Conv2DTranspose(30, kernel_size=(3,3),padding='same',activation='relu',kernel_initializer=init)(x)\n",
    "# Do all that again- your turn!\n",
    "# Repeat the last 4 layers again\n",
    "# Continue to reduce the number of kernels: try 20,20,10,10\n",
    "x = Conv2DTranspose(20, kernel_size=(4,4),strides=(2,2),activation='relu',kernel_initializer=init)(x)\n",
    "x = Conv2D(20, kernel_size=(3,3),activation='relu',kernel_initializer=init)(x)\n",
    "x = Conv2D(10, kernel_size=(3,3),padding='same',activation='relu',kernel_initializer=init)(x)\n",
    "x = Conv2D(10, kernel_size=(3,3),padding='same',activation='relu',kernel_initializer=init)(x)\n",
    "\n",
    "# Final output layer\n",
    "out = Conv2D(1,kernel_size=(1,1),activation='sigmoid',kernel_initializer=init)(x)\n",
    "\n",
    "# Make the model using the input and output layers\n",
    "SegModel = Model(inp,out)"
   ]
  },
  {
   "cell_type": "code",
   "execution_count": null,
   "metadata": {
    "colab": {},
    "colab_type": "code",
    "id": "H4H1GiOz0UOD"
   },
   "outputs": [],
   "source": [
    "# Print a summary of the model we just made\n",
    "SegModel.summary()"
   ]
  },
  {
   "cell_type": "markdown",
   "metadata": {
    "colab_type": "text",
    "id": "N4yezVkV0UOG"
   },
   "source": [
    "### Compiling the model\n",
    "\n",
    "Compiling the model is the final step before it is ready to train. We need to define our loss function and optimizer that Keras will use to run the training. In this step, Keras will also randomly initialize the weights of our network- so every time the network is trained, it has a different starting point and it is possible to get different results."
   ]
  },
  {
   "cell_type": "markdown",
   "metadata": {
    "colab_type": "text",
    "id": "aHNpmhNo0UOG"
   },
   "source": [
    "### Loss function\n",
    "The Dice coefficient is not only a good segmentation metric, is also works well as a segmentation loss function since it can be converted to being differentiable without much difficulty. Loss functions in Keras need be defined using tensor functions, using the backend API.\n",
    "\n",
    "Here is what that looks like:"
   ]
  },
  {
   "cell_type": "code",
   "execution_count": null,
   "metadata": {
    "colab": {},
    "colab_type": "code",
    "id": "GM4nvIMN0UOH"
   },
   "outputs": [],
   "source": [
    "import keras.backend as K\n",
    "def dice_coef(y_true, y_pred):\n",
    "    y_true_f = K.flatten(y_true)\n",
    "    y_pred_f = K.flatten(y_pred)\n",
    "    intersection = K.sum(y_true_f * y_pred_f)\n",
    "    dice = (2. * intersection + 1)/(K.sum(y_true_f) + K.sum(y_pred_f) + 1)\n",
    "    # We have calculated dice, but we want to maximize it. \n",
    "    # Keras tries to minimize the loss so we simply return 1- dice\n",
    "    return 1-dice"
   ]
  },
  {
   "cell_type": "markdown",
   "metadata": {
    "colab_type": "text",
    "id": "u90AIUqB0UOJ"
   },
   "source": [
    "### Optimizer\n",
    "There are many different optimizers that Keras allows us to use without much trouble. We have provided two examples here and you can try both to see how well they help the model train.\n",
    "\n",
    "Segmentation can be tricky- if you don't have enough data, the model might not converge. We are working with a limited amount of data so that is a possible issue. We have already experimented for you to find parameters that work well for this model. We found that SGD- Stochastic Gradient Descent- works best here. We set a low learning rate and some learning rate decay. We also use Nesterov momentum, which is rarely a bad idea for SGD.\n",
    "The final other parameter we'll use is setting the clipnorm, which means the gradients during training will be clipped to a fixed value. This prevents an issue know as \"exploding gradients\" which causes the model to stop learning.\n",
    "\n",
    "##### Challenge: \n",
    "Experiement with these different settings and see if you can find an optimizer and combination of parameters that gets better results in the same amount of training (epochs)"
   ]
  },
  {
   "cell_type": "code",
   "execution_count": null,
   "metadata": {
    "colab": {},
    "colab_type": "code",
    "id": "JlxLDJQA0UOJ"
   },
   "outputs": [],
   "source": [
    "from keras.optimizers import SGD\n",
    "# Setup a SGD optimizer with learning rate of 0.05, decay of 1e-6, momentum of .9\n",
    "# Nesterov momentum enabled, and clipnorm set to 0.5\n",
    "opt = SGD(lr=0.05,momentum=.9,nesterov=True,clipnorm=0.5)\n",
    "# Compile the segmentation model with Dice as the loss and the created optimizer\n",
    "SegModel.compile(loss=dice_coef,optimizer=opt)"
   ]
  },
  {
   "cell_type": "markdown",
   "metadata": {
    "colab_type": "text",
    "id": "h6aeP-UE0UOL"
   },
   "source": [
    "### Model Training\n",
    "All that's left to do is to \"fit\" the model to our data! \n",
    "\n",
    "Keras takes a few more parameters during model \"fitting\" (training):\n",
    "* Our training data (obviously)\n",
    "* Batch size- how many samples are fed in at once\n",
    "* Epochs- how many times to go through all training data\n",
    "* We ask Keras to constantly report progress (verbose)\n",
    "* Shuffle set to True so the data is in random order for every epoch\n",
    "* Our validation data that will be evaluated at the end of every epoch so we can keep an eye on overfitting"
   ]
  },
  {
   "cell_type": "code",
   "execution_count": null,
   "metadata": {
    "colab": {},
    "colab_type": "code",
    "id": "H_edhov00UOM"
   },
   "outputs": [],
   "source": [
    "# Run the model training with our x and y training data, batch size of 32,\n",
    "# 7 epochs, shuffle on, and provide our validation data\n",
    "# Save the output to the variable 'hist'\n",
    "hist = SegModel.fit(trainX, trainY,\n",
    "          batch_size=32,\n",
    "          epochs=5,\n",
    "          verbose=1,\n",
    "          shuffle=True,\n",
    "          validation_data=(valX, valY))"
   ]
  },
  {
   "cell_type": "markdown",
   "metadata": {
    "colab_type": "text",
    "id": "JoNjbXMi0UOP"
   },
   "source": [
    "### Evaluate Model\n",
    "After the training is complete, we evaluate the model again on our validation data to see the results."
   ]
  },
  {
   "cell_type": "code",
   "execution_count": null,
   "metadata": {
    "colab": {},
    "colab_type": "code",
    "id": "svbXPIEx0UOP"
   },
   "outputs": [],
   "source": [
    "# Get the Dice score from evaluating the model and print it out\n",
    "score = SegModel.evaluate(valX, valY, verbose=0)\n",
    "print('Final Dice on validation set: {:.04f}'.format(1-score))"
   ]
  },
  {
   "cell_type": "markdown",
   "metadata": {
    "colab_type": "text",
    "id": "YfpDEKU90UOS"
   },
   "source": [
    "Another way to evaluate a model is to look at how both the training and validation losses change during training. Keras gave us this data when we trained the model, now we can plot them together."
   ]
  },
  {
   "cell_type": "code",
   "execution_count": null,
   "metadata": {
    "colab": {},
    "colab_type": "code",
    "id": "6RD1gVN60UOT"
   },
   "outputs": [],
   "source": [
    "# Plot the losses that are stored in the 'hist' variable\n",
    "plt.figure(figsize=(6.0, 4.0));\n",
    "plt.plot(hist.epoch,hist.history['loss'],'b-s')\n",
    "plt.plot(hist.epoch,hist.history['val_loss'],'r-s')\n",
    "plt.legend(['Training Loss',\n",
    "            ' Validation Loss'])\n",
    "plt.xlabel('Epochs')\n",
    "plt.ylabel('Dice Loss')\n",
    "plt.ylim([0,1])\n",
    "plt.show()"
   ]
  },
  {
   "cell_type": "markdown",
   "metadata": {
    "colab_type": "text",
    "id": "U6VsVupZ0UOX"
   },
   "source": [
    "An important thing to look for is that the validation loss isn't increasing while the training loss decreases. The divergence of the losses like this means that the model is overfitting- it is getting really good at the training data that it sees, but it is getting worse at the data that it doesn't see. This means the model won't be very helpful when we want to apply it to new data.\n",
    "Due to the random initialization of the network, the exact loss plots will be different every single time you train it. However, for this example, some general statements can be made that probably apply to your results.\n",
    "* The validation and training losses generally go down. This is good- the model is learning.\n",
    "* The validation loss is generally higher than the training loss. This is expected- the model will learn the training data best because that is what it gets direct feedback on. The hope is that it will transfer what it learns to the validation data too.\n",
    "* The validation loss spikes up at some point. This is also pretty normal. The validation data isn't part of the feedback loop so it's not guaranteed that the model will consistently get better results on it. As long as the spikes are isolated and the validation loss follows a general downward trend, it's not anything to worry about."
   ]
  },
  {
   "cell_type": "markdown",
   "metadata": {
    "colab_type": "text",
    "id": "R9es9wHk0UOX"
   },
   "source": [
    "##### Question 2: What techniques or strategies can be used to mitigate issues with overfitting?"
   ]
  },
  {
   "cell_type": "markdown",
   "metadata": {
    "colab_type": "text",
    "id": "Rku4IjDQ0UOY"
   },
   "source": [
    "Another useful way to evaluate a model is to just look at the outputs. We can look at a sample image to see how the mask looks compared to the ground truth."
   ]
  },
  {
   "cell_type": "code",
   "execution_count": null,
   "metadata": {
    "colab": {},
    "colab_type": "code",
    "id": "a5_cVL8k0UOZ"
   },
   "outputs": [],
   "source": [
    "# Get the predictions of the model on the validation inputs\n",
    "predictions = SegModel.predict(valX)"
   ]
  },
  {
   "cell_type": "code",
   "execution_count": null,
   "metadata": {
    "colab": {},
    "colab_type": "code",
    "id": "u3UOWeBK0UOc"
   },
   "outputs": [],
   "source": [
    "# pick a random slice to examine\n",
    "disp_ind = 73\n",
    "# get the CT image, the model predicted mask, and the target mask\n",
    "image = valX[disp_ind,...,0]\n",
    "predicted_mask = predictions[disp_ind,...,0]\n",
    "truth_mask = valY[disp_ind,...,0]\n",
    "# normalize image for display\n",
    "image = image-np.min(image)\n",
    "image = image/np.max(image)\n",
    "# create a figure\n",
    "plt.figure()\n",
    "# combine images together into one\n",
    "disp = np.c_[image,predicted_mask,truth_mask]\n",
    "# display image\n",
    "plt.imshow(disp,cmap='gray')\n",
    "plt.show()"
   ]
  },
  {
   "cell_type": "markdown",
   "metadata": {
    "colab_type": "text",
    "id": "wTNgVEV40UOe"
   },
   "source": [
    "Results will vary here. It's unlikely that the model already learned a beautiful mask, but hopefully it at least learned something useful and can produce a somewhat reasonable result. Play around with the index `(disp_ind)` and see what different slices look like.\n",
    "\n",
    "Sometimes it helps to get more precise visualization. We have provided a function for viewing the mask on top of the image, so we can maybe start to explain what mistakes the model is making."
   ]
  },
  {
   "cell_type": "code",
   "execution_count": null,
   "metadata": {
    "colab": {},
    "colab_type": "code",
    "id": "ZAT2Agcj0UOf"
   },
   "outputs": [],
   "source": [
    "from Demo_Functions import display_mask\n",
    "\n",
    "display_mask(image,predicted_mask)"
   ]
  },
  {
   "cell_type": "markdown",
   "metadata": {
    "colab_type": "text",
    "id": "1v-z9wym0UOh"
   },
   "source": [
    "##### Question 3: Can you explain the errors made by the deep learning model?"
   ]
  },
  {
   "cell_type": "markdown",
   "metadata": {
    "colab_type": "text",
    "id": "eEyn1mQa0UOh"
   },
   "source": [
    "In segmentation, a particularly useful trick is the use of skip connetions, in which layers from the downsampling part of the network are concatenated with layers on the upsampling part. This both boosts the representational power of the model as well as improves the gradient flow, which also helps the model learn quicker.\n",
    "These skip connections take a little bit more effort to implement. Luckily, Keras still makes it pretty easy."
   ]
  },
  {
   "cell_type": "markdown",
   "metadata": {
    "colab_type": "text",
    "id": "EodhD8Sm0UOi"
   },
   "source": [
    "## Adding Skip Connections\n",
    "So far, we've been making sequential models.\n",
    "Basically, it means that our network\n",
    "has a single, straight path, i.e.\n",
    "\n",
    "![Simple CNN floatchart](https://github.com/jmj23/deep-learning/raw/master/BootCamp/CNN_simple_flowchart.png \"Simple CNN\")\n",
    "\n",
    "Each layer has a single input and output\n",
    "\n",
    "But what if we wanted something more complicated? What if\n",
    "we wanted to implement the skip connections that were just mentioned, for example? Then we would want something like\n",
    "\n",
    "![Connection CNN floatchart](https://github.com/jmj23/deep-learning/raw/master/BootCamp/CNN_connection_flowchart.png \"Connection CNN\")\n",
    "\n",
    "               \n",
    "The extra connection shown is called a skip connection. Skip connections allow the model to consider features that were calculated earlier in the network again, merged with further processed features in practice, this has shown to be hugely helpful in geting precise localization in segmentation outputs.\n",
    "\n",
    "We'll use the same segmentation data so no need to prepare anything new. Let's jump into model creation."
   ]
  },
  {
   "cell_type": "markdown",
   "metadata": {
    "colab_type": "text",
    "id": "dMhMjOxZ0UOi"
   },
   "source": [
    "## Build a segmentation model with skip connections\n",
    "\n",
    "We will reuse the previous model, but rename some of the layers and add some new ones. Here is the previous model code:"
   ]
  },
  {
   "cell_type": "code",
   "execution_count": null,
   "metadata": {
    "colab": {},
    "colab_type": "code",
    "id": "EFfQZ6no0UOj"
   },
   "outputs": [],
   "source": [
    "# A new layer type we will need for this model\n",
    "from keras.layers import concatenate\n",
    "\n",
    "# the model begins the same\n",
    "inp = Input(shape=trainX.shape[1:])\n",
    "x = Conv2D(10,kernel_size=(3,3),padding='same',activation='relu',kernel_initializer=init)(inp)\n",
    "\n",
    "# we need to hold onto this layer so it can be used later in the model\n",
    "# as a skip connection. Rename the the output of this layer to \n",
    "# something besides 'x'. I prefer 'x1' but creativity is allowed.\n",
    "x1 = Conv2D(20, kernel_size=(3,3),padding='same',activation='relu',kernel_initializer=init)(x)\n",
    "# Don't forget to update the input of this layer to the same name\n",
    "x = ZeroPadding2D(padding=(1,1))(x1)\n",
    "\n",
    "# these layers can remain the same\n",
    "x = Conv2D(30, kernel_size=(4,4),strides=(2,2),activation='relu',kernel_initializer=init)(x)\n",
    "x = Conv2D(30, kernel_size=(3,3),padding='same',activation='relu',kernel_initializer=init)(x)\n",
    "\n",
    "# repeat the renaming process for this layer. I used 'x2'\n",
    "x2 = Conv2D(40, kernel_size=(3,3),padding='same',activation='relu',kernel_initializer=init)(x)\n",
    "x = ZeroPadding2D(padding=(1,1))(x2)\n",
    "\n",
    "# We'll finish the encoding side of the network and begin the decoding side\n",
    "x = Conv2D(40, kernel_size=(4,4),strides=(2,2),activation='relu',kernel_initializer=init)(x)\n",
    "x = Conv2D(50, kernel_size=(3,3),padding='same',activation='relu',kernel_initializer=init)(x)\n",
    "x = Conv2D(50, kernel_size=(3,3),padding='same',activation='relu',kernel_initializer=init)(x)\n",
    "x = Conv2DTranspose(40, kernel_size=(4,4),strides=(2,2),activation='relu',kernel_initializer=init)(x)\n",
    "x = Conv2D(40, kernel_size=(3,3),activation='relu',kernel_initializer=init)(x)\n",
    "# Now, add a concatenation layer to grab the second layer we renamed- 'x2'\n",
    "# the syntax is:\n",
    "# x = concatenate([layer1,layer2])\n",
    "# give it a shot:\n",
    "x = concatenate([x,x2])\n",
    "\n",
    "# more decoding side of the network\n",
    "x = Conv2DTranspose(30, kernel_size=(3,3),padding='same',activation='relu',kernel_initializer=init)(x)\n",
    "x = Conv2DTranspose(30, kernel_size=(3,3),padding='same',activation='relu',kernel_initializer=init)(x)\n",
    "x = Conv2DTranspose(20, kernel_size=(4,4),strides=(2,2),activation='relu',kernel_initializer=init)(x)\n",
    "x = Conv2D(20, kernel_size=(3,3),activation='relu',kernel_initializer=init)(x)\n",
    "\n",
    "# now add the second skip connection, this time using the first layer- 'x1'\n",
    "x = concatenate([x,x1])\n",
    "\n",
    "# finish the model off like before\n",
    "x = Conv2D(10, kernel_size=(3,3),padding='same',activation='relu',kernel_initializer=init)(x)\n",
    "x = Conv2D(10, kernel_size=(3,3),padding='same',activation='relu',kernel_initializer=init)(x)\n",
    "out = Conv2D(1,kernel_size=(1,1),activation='sigmoid',kernel_initializer=init)(x)\n",
    "\n",
    "# Make the model using the input and output layers\n",
    "# This won't work if we don't match up the skip connections right!\n",
    "SegModel2 = Model(inp,out)"
   ]
  },
  {
   "cell_type": "markdown",
   "metadata": {
    "colab_type": "text",
    "id": "4I-7IwIC0UOl"
   },
   "source": [
    "Let's print out a summary of the model to make sure it's what we want.\n",
    "It's a little bit harder to keep track of layers in non-sequential format, but it's still a good way to make sure things look right."
   ]
  },
  {
   "cell_type": "code",
   "execution_count": null,
   "metadata": {
    "colab": {},
    "colab_type": "code",
    "id": "918xM5YD0UOl"
   },
   "outputs": [],
   "source": [
    "# Print the summary of the model\n",
    "SegModel2.summary()"
   ]
  },
  {
   "cell_type": "markdown",
   "metadata": {
    "colab_type": "text",
    "id": "_a7_Qtpc0UOn"
   },
   "source": [
    "Now, everything else is just like the previous segmentation model. Let's try it out and see how it works!"
   ]
  },
  {
   "cell_type": "code",
   "execution_count": null,
   "metadata": {
    "colab": {},
    "colab_type": "code",
    "id": "XIifkyBF0UOn"
   },
   "outputs": [],
   "source": [
    "# Make same optimizer as before and compile the new model\n",
    "opt = SGD(lr=0.05,momentum=.9,nesterov=True,clipnorm=0.5)\n",
    "SegModel2.compile(loss=dice_coef,optimizer=opt)"
   ]
  },
  {
   "cell_type": "code",
   "execution_count": null,
   "metadata": {
    "colab": {},
    "colab_type": "code",
    "id": "mbvWqH6v0UOq"
   },
   "outputs": [],
   "source": [
    "# Running the training with same data, batch size, and epochs as before\n",
    "hist2 = SegModel2.fit(trainX, trainY,\n",
    "          batch_size=32,\n",
    "          epochs=5,\n",
    "          verbose=1,\n",
    "          shuffle=True,\n",
    "          validation_data=(valX, valY))"
   ]
  },
  {
   "cell_type": "code",
   "execution_count": null,
   "metadata": {
    "colab": {},
    "colab_type": "code",
    "id": "HQVkwSnS0UOr"
   },
   "outputs": [],
   "source": [
    "# Plot the results, including the previous ones\n",
    "# Use different colors for the first and second model\n",
    "plt.figure(figsize=(6.0, 4.0));\n",
    "plt.plot(hist2.epoch,hist2.history['loss'],'r-')\n",
    "plt.plot(hist2.epoch,hist2.history['val_loss'],'r-s')\n",
    "plt.plot(hist.epoch,hist.history['loss'],'b-')\n",
    "plt.plot(hist.epoch,hist.history['val_loss'],'b-s')\n",
    "plt.legend(['Model 2 Training Loss',\n",
    "            'Model 2 Validation Loss',\n",
    "            'Model 1 Training Loss',\n",
    "            'Model 1 Validation Loss'])\n",
    "plt.xlabel('Epochs')\n",
    "plt.ylabel('Dice Loss')\n",
    "plt.show()"
   ]
  },
  {
   "cell_type": "markdown",
   "metadata": {
    "colab_type": "text",
    "id": "-hcxUMtq0UOt"
   },
   "source": [
    "##### Question 4: How can the validation loss be lower than the training loss?"
   ]
  },
  {
   "cell_type": "code",
   "execution_count": null,
   "metadata": {
    "colab": {},
    "colab_type": "code",
    "id": "0Vh-uMEu0UOt"
   },
   "outputs": [],
   "source": [
    "# Get the predictions of the new model\n",
    "predictions2 = SegModel2.predict(valX)\n",
    "# display image with mask like before\n",
    "disp_ind = 73\n",
    "image = valX[disp_ind,...,0]\n",
    "predicted_mask = predictions2[disp_ind,...,0]\n",
    "truth_mask = valY[disp_ind,...,0]\n",
    "# normalize image for display\n",
    "image = image-np.min(image)\n",
    "image = image/np.max(image)\n",
    "# create a figure\n",
    "plt.figure()\n",
    "# combine images together into one\n",
    "disp = np.c_[image,predicted_mask,truth_mask]\n",
    "# display image\n",
    "plt.imshow(disp,cmap='gray')\n",
    "plt.show()"
   ]
  },
  {
   "cell_type": "markdown",
   "metadata": {
    "colab_type": "text",
    "id": "kK7j0OoO0UOv"
   },
   "source": [
    "It's better! The network learned much faster, as is apparent in the loss plots. The new model also already has better overall results. Additionally, the mask has more fine detail than the previous version without skip connections. Having these skip connections definitely make a difference. The difference becomes more pronounced for deeper networks (more layers) with more parameters and larger images.\n",
    "\n",
    "Let's look at some of these masks on the images and make some observations."
   ]
  },
  {
   "cell_type": "code",
   "execution_count": null,
   "metadata": {
    "colab": {},
    "colab_type": "code",
    "id": "THmccG6f0UOw"
   },
   "outputs": [],
   "source": [
    "ims = np.split(valX[10:80:16,...,0],5)\n",
    "masks = np.split(predictions2[10:80:16,...,0],5)\n",
    "for im,mask in zip(ims,masks):\n",
    "    display_mask(im[0],mask[0])"
   ]
  },
  {
   "cell_type": "markdown",
   "metadata": {
    "colab_type": "text",
    "id": "iVYlUDdr0UOy"
   },
   "source": [
    "Now that you know the functional API, you can make any graph you like, train it, and use it! Once you've mastered the syntax and conceptual understanding of how to connect layers, you are only limited by your imagination as far as what kind of network you can build."
   ]
  },
  {
   "cell_type": "markdown",
   "metadata": {
    "colab_type": "text",
    "id": "RXuV8TxZ0UOz"
   },
   "source": [
    "## End of Segmentation Example. Happy deep learning!"
   ]
  },
  {
   "cell_type": "markdown",
   "metadata": {
    "colab_type": "text",
    "id": "EjwteSR00UOz"
   },
   "source": [
    "## Answers to Questions\n",
    "    \n",
    "#### 1- What could be another use for having multiple input channels?\n",
    "\n",
    "In MRI, multiple sequences are usually acquired. It might take some resampling of the data, but you could use multiple sequences as different channels, for example, T1, T2, and 2-point Dixon images. Including more channels in your inputs almost always results in better performance for a deep learning model.\n",
    "\n",
    "#### 2- What techniques or strategies can be used to mitigate issues with overfitting?\n",
    "\n",
    "The best solution is to use more data. That is rarely a possible solution in medical imaging, so there are some alternatives.\n",
    "1. Use data augmentation to synthesize extra data\n",
    "2. Reduce the size or complexity of the network\n",
    "3. Introduce regularization. This can include dropout, batch normalization, or L1/L2 regularization\n",
    "\n",
    "#### 3- Can you explain the errors made by the deep learning model?\n",
    "\n",
    "No! It's really difficult to explain or understand exactly what is going on inside a CNN. There's simply too many parameters involved to be able to pick apart what each one is doing. That's why training always needs validation- it's the only way to check that our model is really learning something useful.\n",
    "\n",
    "#### 4- How can the validation loss be lower than the training loss?\n",
    "\n",
    "It generally isn't, because the model learns from the training data and not the validation data. Only in contrived scenarios could the model actually perform better on the validation data than training. However, sometimes you will see lower validation loss. The explanations could be:\n",
    "* The model has equivalent performance on training and validation, and slight random differences make the validation loss slightly lower\n",
    "* A quirk of Keras. This is how Keras evaluates losses during training:\n",
    "    1. Calculate loss of each training batch during epoch\n",
    "    2. Average these losses together at end of epoch. This is the epoch's training loss\n",
    "    3. Calculate total validation loss at end of epoch.\n",
    "    \n",
    "If a model learns very quickly (frequent in the first few epochs) then the performance of the model at the end of the epoch, when it evaluates the validation data, will better than the average performance during the entire epoch."
   ]
  }
 ],
 "metadata": {
  "accelerator": "GPU",
  "colab": {
   "include_colab_link": true,
   "name": "SegmentationBootcamp-MasterCopy.ipynb",
   "provenance": [],
   "version": "0.3.2"
  },
  "kernelspec": {
   "display_name": "Python 3",
   "language": "python",
   "name": "python3"
  },
  "language_info": {
   "codemirror_mode": {
    "name": "ipython",
    "version": 3
   },
   "file_extension": ".py",
   "mimetype": "text/x-python",
   "name": "python",
   "nbconvert_exporter": "python",
   "pygments_lexer": "ipython3",
   "version": "3.5.4"
  }
 },
 "nbformat": 4,
 "nbformat_minor": 1
}
