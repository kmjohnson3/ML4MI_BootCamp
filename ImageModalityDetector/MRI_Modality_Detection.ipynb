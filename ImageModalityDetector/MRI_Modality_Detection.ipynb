{
 "cells": [
  {
   "cell_type": "markdown",
   "metadata": {
    "id": "MMFwsUiOQQMx"
   },
   "source": [
    "# Introduction\n",
    "This tutorial will give an example application of using deep learning for categorization of images. This example will demonstrate how to implement a convolutional neural network for the identifying the type of MRI contrast or pulse sequence from a given input. The tutorial will have 3 main parts:\n",
    "\n",
    "1. Loading and organization of data for model training\n",
    "2. Creating a multi-class categorization deep learning model\n",
    "3. Training with pre-defined networks\n",
    "\n",
    "Keep an eye out for questions through this demo to test your new DL knowledge and critical thinking. There are answers at the end of the document."
   ]
  },
  {
   "cell_type": "markdown",
   "metadata": {
    "id": "ZzKqQR3qQQMz"
   },
   "source": [
    "### Initial Preparation\n",
    "These are some modules that we will need throughout this example:"
   ]
  },
  {
   "cell_type": "code",
   "execution_count": null,
   "metadata": {
    "executionInfo": {
     "elapsed": 2484,
     "status": "ok",
     "timestamp": 1629678229037,
     "user": {
      "displayName": "Alan McMillan",
      "photoUrl": "https://lh3.googleusercontent.com/a-/AOh14Gg6inLdCy4i5PXDY6vEpoIN4IKAiVoZVFiVgeVWRIA=s64",
      "userId": "12007845427380256126"
     },
     "user_tz": 300
    },
    "id": "1-QqvYq0QQM0"
   },
   "outputs": [],
   "source": [
    "import numpy\n",
    "import os\n",
    "\n",
    "import tensorflow as tf\n",
    "import matplotlib.pyplot as plt\n",
    "\n",
    "# initialize random seeds for more reproducible results\n",
    "numpy.random.seed(1)\n",
    "tf.random.set_seed(1)"
   ]
  },
  {
   "cell_type": "markdown",
   "metadata": {
    "id": "c2bd_ULtQQM4"
   },
   "source": [
    "Next, we need to copy the files to a place where our CoLab notebook can read them."
   ]
  },
  {
   "cell_type": "code",
   "execution_count": null,
   "metadata": {
    "colab": {
     "background_save": true,
     "base_uri": "https://localhost:8080/"
    },
    "id": "fD7u9emnQdkT"
   },
   "outputs": [],
   "source": [
    "# Mount the Google Drive\n",
    "from google.colab import drive\n",
    "drive.mount('/content/drive')\n",
    "\n",
    "# Unarchive data to this VM\n",
    "import tarfile\n",
    "from tqdm import tqdm\n",
    "with tarfile.open(name='/content/drive/My Drive/ML4MI_BOOTCAMP_DATA/ImageModalityDetector.tar') as tar:\n",
    "    for member in tqdm(iterable=tar.getmembers(), desc='Decompressing', unit='file', total=len(tar.getmembers())):\n",
    "      tar.extract(member=member,path='/home/')"
   ]
  },
  {
   "cell_type": "markdown",
   "metadata": {
    "id": "tpozGo7MQQM4"
   },
   "source": [
    "# Part 1: Data Organization\n",
    "Data for this example has already been prepared for you. The data utilized here is from the 2017 MICCAI Multimodal Brain Tumor Segmentation (BRATS) Challenge. The data consists of magnetic resonance imaging (MRI) data from 19 different institutions in subjects with glioblastoma/high grade glioma (GBM/HGG) and low grade glioma (LGG). The different MRI scans include: T1-weighted (t1), post-contrast Gadolinium-enhanced images (t1ce), T2-weighted (t2), and T2 fluid attenuated inversion recovery (flair). More information on the 2017 BRATS Challenge is available here: https://www.med.upenn.edu/sbia/brats2017/data.html\n",
    "\n",
    "Data preparation for this example is similar to the approach that utilized in the previous example. This includes the use of a Keras image data generator. Your instructor has converted the BRATS data from the NiFTI imaging format (https://nifti.nimh.nih.gov/nifti-1/) to portable network graphics (.png) files, which is an image file format that can be read natively in Keras. Each .png file is a 256x256 axial image. In a later exercise, you will load image data directly from DICOM files as a further example. The structure of the data folder is as follows:\n",
    "<pre>\n",
    "  --ImageModalityDetector\n",
    "     --test (17,100 files)\n",
    "           --flair\n",
    "           --t1\n",
    "           --t1ce\n",
    "           --t2\n",
    "     --train (39,900 files)\n",
    "           --flair\n",
    "           --t1\n",
    "           --t1ce\n",
    "           --t2\n",
    "     --validate (17,100 files)\n",
    "           --flair\n",
    "           --t1\n",
    "           --t1ce\n",
    "           --t2\n",
    "</pre>\n",
    "\n",
    "Configuring the images in this particular folder structure allows easy use of a Keras ImageDataGenerator to perform the categorization of the different types of data for which we wish to discriminate. Specifically for this example, this includes the type of MRI scan: (flair, t1, t1ce, or t2) of each input image. The BRATS Dataset includes images from 285 subjects, and in this structure the data has been divided into ~66 subjects in the testing set (test), ~153 subjects in the training set (train), and ~66 subjects in the validation set (validate). Thus, each subject contributes 65 slices for each type of MRI scan.\n",
    "\n",
    "Now let's work on setting up the ImageDataGenerator to read in our data. Keras has built-in capabilities to perform basic types of data augmentation. That is the ability to apply different, randomized transformations to the input data to increase the diversity of the dataset. In this exercise we will explore the use of an ImageDataGenerator to perform varying types of augmentation. Let's try it out:"
   ]
  },
  {
   "cell_type": "code",
   "execution_count": null,
   "metadata": {
    "id": "qL3Cbv8wQQM5"
   },
   "outputs": [],
   "source": [
    "# first let's use some varaibles to record information about our data\n",
    "dims = 256 # this is the size of out input data, 256x256\n",
    "classes = ? # how many types of MRI scans do we have?\n",
    "batch_size = 15 # this is how many input images will be utilized for each training step\n",
    "\n",
    "# this is the folder that contains the 39,900 images that will be used for training\n",
    "train_folder = '/home/ImageModalityDetector/train'\n",
    "# this is the folder htat contains the 17,100 images that will be used for validation\n",
    "valid_folder = '/home/ImageModalityDetector/validate'\n",
    "\n",
    "# set up the ImageDataGenerator for the validation data first. We will not perform augmentation on the validation data, but we do need to normalize the input intensity of the input images:\n",
    "valid_datagen = tf.keras.preprocessing.image.ImageDataGenerator(rescale=1./255)\n",
    "\n",
    "# now set up the ImageDataGenerator for the training:\n",
    "# Go to the documentation page for the ImageDataGenerator (https://keras.io/preprocessing/image/#imagedatagenerator-class)\n",
    "#  and learn how to add in a rotation, a shear, width shift, height shift, and zoom augmentation.\n",
    "#  What are reasonable values for this type of dataset?\n",
    "train_datagen = ?"
   ]
  },
  {
   "cell_type": "markdown",
   "metadata": {
    "id": "T5P1SzYNQQM8"
   },
   "source": [
    "# Model Configuration\n",
    "In this example we will explore the use of different model structures that are already available in Keras. But first let's start with the model that used in the last example. Can you modify the existing model structure? How will it work with the number of classes in this new dataset?"
   ]
  },
  {
   "cell_type": "code",
   "execution_count": null,
   "metadata": {
    "id": "s0OvUmVRQQM9"
   },
   "outputs": [],
   "source": [
    "# insert the model you used in the last example here\n",
    "model = ?\n",
    "\n",
    "# now lets compile the model.\n",
    "#  What loss function should be used? binary_crossentropy does not make sense anymore.\n",
    "#    Here is a list of available loss functions in Keras: https://keras.io/losses/\n",
    "#  What metrics should be used? accuracy is also not appropriate here.\n",
    "#    Here is a list of available metrics in Keras: https://keras.io/metrics/\n",
    "model.compile(loss=\"?\", optimizer=tf.keras.optimizers.Adam(learning_rate=1e-4), metrics=[\"?\"])"
   ]
  },
  {
   "cell_type": "markdown",
   "metadata": {
    "id": "-UjTgzCEQQNA"
   },
   "source": [
    "# Model Training\n",
    "Let's work on training this this model and dataset.\n",
    "\n",
    "First, let's set up the ImageDataGenerator to use the flow_from_directory function. This is very useful because it allows us to train large datasets that we might not be able to entirely load into our computer's memory. Also, it provides the facilities for on-the-fly augmentation that we are now using. "
   ]
  },
  {
   "cell_type": "code",
   "execution_count": null,
   "metadata": {
    "id": "QQ1GyA--QQNB"
   },
   "outputs": [],
   "source": [
    "# the call to flow_from_directory, technically it returns a DirectoryIterator object\n",
    "#  that we pass to the model.fit. Let's set it up:\n",
    "# What should class_mode be set to here?\n",
    "train_generator = train_datagen.flow_from_directory(train_folder, batch_size=batch_size, target_size=(dims,dims), shuffle=True, class_mode='?', color_mode='grayscale')\n",
    "valid_generator = valid_datagen.flow_from_directory(valid_folder, batch_size=batch_size, target_size=(dims,dims), shuffle=True, class_mode='?', color_mode='grayscale')"
   ]
  },
  {
   "cell_type": "markdown",
   "metadata": {
    "id": "9-q_mWRYQQNE"
   },
   "source": [
    "Now we are ready to start training. Let's get this get this going:"
   ]
  },
  {
   "cell_type": "code",
   "execution_count": null,
   "metadata": {
    "id": "6okVwmZYQQNF"
   },
   "outputs": [],
   "source": [
    "# steps is the number of batches that are passed during each epoch\n",
    "#   IRL, this should be large enough such that we pass through the entire\n",
    "#        dataset (or equivalent) for each epoch. That is: 9975/batch_size\n",
    "#   For practicality for this course, let's make it smaller so we can progress\n",
    "#    through this exercise at a quicker pace.\n",
    "steps = 500\n",
    "# val_steps is the number of batches that are passed during each validation epoch\n",
    "#   IRL, this should be large enough such that we pass through the entire\n",
    "#        dataset (or equivalent) for each epoch. That is: 4275/batch_size\n",
    "#   For practicality for this course, let's make it smaller so we can progress\n",
    "#    through this exercise at a quicker pace.\n",
    "val_steps = 100\n",
    "\n",
    "# now let's train for 5 epochs (note that this is unrealistic demonstration of model training)\n",
    "history = model.fit(train_generator, steps_per_epoch=steps, epochs=5, \n",
    "                              validation_data=valid_generator, validation_steps=val_steps)\n",
    "\n",
    "# It should take approximately 5 minutes to train. Maybe you should take a break"
   ]
  },
  {
   "cell_type": "markdown",
   "metadata": {
    "id": "X1tFEAyaQQNH"
   },
   "source": [
    "Now that training is complete. Let's plot the losses:"
   ]
  },
  {
   "cell_type": "code",
   "execution_count": null,
   "metadata": {
    "id": "ghUdY14OQQNI"
   },
   "outputs": [],
   "source": [
    "plt.figure(figsize=(6.0, 4.0));\n",
    "# Plot the losses\n",
    "plt.subplot(121)\n",
    "plt.plot(history.epoch,history.history['loss'],'b-s')\n",
    "plt.plot(history.epoch,history.history['val_loss'],'r-s')\n",
    "plt.legend(['Training Data',\n",
    "            'Validation Data'])\n",
    "plt.xlabel('Epochs')\n",
    "plt.ylabel('Accuracy')\n",
    "plt.title('Loss Plot')\n",
    "# Plot the accuracy\n",
    "plt.subplot(122)\n",
    "plt.plot(history.epoch,history.history['categorical_accuracy'],'b-s')\n",
    "plt.plot(history.epoch,history.history['val_categorical_accuracy'],'r-s')\n",
    "plt.legend(['Training Data',\n",
    "            'Validation Data'])\n",
    "plt.xlabel('Epochs')\n",
    "plt.ylabel('Accuracy')\n",
    "plt.title('Accuracy Plot')\n",
    "plt.show()"
   ]
  },
  {
   "cell_type": "markdown",
   "metadata": {
    "id": "4jjepB49QQNL"
   },
   "source": [
    "**Question 1:** Given the number of input classes that we have. What would be the accuracy of a model that was as good as a random guess? What was the accuracy of your model?"
   ]
  },
  {
   "cell_type": "markdown",
   "metadata": {
    "id": "y4qDJGApQQNN"
   },
   "source": [
    "### Improved Network Structures\n",
    "I hope you agree that we can do better. Let's try this again but with different model. Keras has the functionality to use pre-existing network structures. Let's explore that functionality. Please take a look at the Keras Applications page (https://keras.io/applications/), which describes pre-configured networks that are available.\n",
    "\n",
    "We will try MobileNet, which is designed to be an efficient network. Here is more information about the MobileNet structure: https://arxiv.org/pdf/1704.04861.pdf"
   ]
  },
  {
   "cell_type": "code",
   "execution_count": null,
   "metadata": {
    "id": "o_kLy9O_QQNO"
   },
   "outputs": [],
   "source": [
    "# here instantiate a MobileNet that is specific to our data (image size and number of classes) with randomized initial weights\n",
    "model_mn = tf.keras.applications.mobilenet.MobileNet( ? )\n",
    "\n",
    "# now let's train it\n",
    "model_mn.compile(loss=\"categorical_crossentropy\", optimizer=tf.keras.optimizers.Adam(learning_rate=1e-3), metrics=[\"categorical_accuracy\"])\n",
    "history_mn = model_mn.fit(train_generator, steps_per_epoch=steps, epochs=5,\n",
    "                          validation_data=valid_generator, validation_steps=val_steps)\n",
    "\n",
    "# this model will take several minutes to train (a bit longer than the first one)"
   ]
  },
  {
   "cell_type": "markdown",
   "metadata": {
    "id": "vyl8tyZ2QQNR"
   },
   "source": [
    "Now we can plot the losses compared to our first network:"
   ]
  },
  {
   "cell_type": "code",
   "execution_count": null,
   "metadata": {
    "id": "jVhLGWHnQQNR"
   },
   "outputs": [],
   "source": [
    "plt.figure(figsize=(6.0, 4.0));\n",
    "plt.subplot(121)\n",
    "plt.plot(history_mn.epoch,history_mn.history['loss'],'b-s')\n",
    "plt.plot(history.epoch,history.history['loss'],'g-s')\n",
    "plt.legend(['MobileNet Training Data',\n",
    "            '1st Network Training Data'])\n",
    "plt.xlabel('Epochs')\n",
    "plt.ylabel('Loss')\n",
    "plt.title('Loss Plot')\n",
    "plt.subplot(122)\n",
    "plt.plot(history_mn.epoch,history_mn.history['val_categorical_accuracy'],'r-s')\n",
    "plt.plot(history.epoch,history.history['val_categorical_accuracy'],'c-s')\n",
    "plt.legend(['MobileNet Validation Data',\n",
    "            '1st Network Validation Data'])\n",
    "plt.xlabel('Epochs')\n",
    "plt.ylabel('Accuracy')\n",
    "plt.title('Accuracy Plot')\n",
    "plt.show()"
   ]
  },
  {
   "cell_type": "markdown",
   "metadata": {
    "id": "7s6owqIUQQNW"
   },
   "source": [
    "This looks like it is doing much better. Unfortunately we do not have the time today to complete the full training. Fortunately, your instructor has trained this network (and several others) for up to 30 epochs. Let's work on next loading these trained models and compare their performance. Note that we are using a Keras callback function, ModelCheckpoint (https://keras.io/callbacks/#modelcheckpoint), to save the best weights of the trained network. We will load these weight files in the next step. \n",
    "\n",
    "For your information, the code that was used to train the different networks is below:\n",
    "\n",
    "#### To define VGG16 - https://arxiv.org/abs/1409.1556\n",
    "<pre>\n",
    "model = tf.keras.applications.vgg16.VGG16(weights=None, input_shape=(dims,dims,1), classes=classes)\n",
    "</pre>\n",
    "#### To define InceptionV3 - http://arxiv.org/abs/1512.00567\n",
    "<pre>\n",
    "model = tf.keras.applications.inception_v3.InceptionV3(weights=None, input_shape=(dims,dims,1), classes=classes)\n",
    "</pre>\n",
    "#### To define DenseNet - https://arxiv.org/abs/1608.06993\n",
    "<pre>\n",
    "model = tf.keras.applications.densenet.DenseNet121(weights=None, input_shape=(dims,dims,1), classes=classes)\n",
    "</pre>\n",
    "#### Used to train all of the above models\n",
    "<pre>\n",
    "model.compile(loss=\"categorical_crossentropy\", optimizer=tf.keras.optimizers.Adam(learning_rate=1e-4), metrics=[\"categorical_accuracy\"])\n",
    "from keras.callbacks import ModelCheckpoint\n",
    "model_checkpoint = ModelCheckpoint('weights.h5', monitor='loss', save_best_only=True)\n",
    "history = model.fit(train_generator, steps_per_epoch=steps, epochs=30, callbacks=[model_checkpoint], validation_data=valid_generator, validation_steps=val_steps )\n",
    "</pre>\n",
    "\n"
   ]
  },
  {
   "cell_type": "markdown",
   "metadata": {
    "id": "yZ8LOz0aQQNW"
   },
   "source": [
    "### Comparing Different Models\n",
    "Let's start by loading up the different history files that were saved for each model, and let's take a look at the loss plot for each epoch."
   ]
  },
  {
   "cell_type": "code",
   "execution_count": null,
   "metadata": {
    "id": "N6TYqCKyQQNX"
   },
   "outputs": [],
   "source": [
    "# load in history files\n",
    "history_inceptionv3 = numpy.load('/home/ImageModalityDetector/history_inceptionv3.npy',allow_pickle=True)\n",
    "history_mobilenet = numpy.load('/home/ImageModalityDetector/history_mobilenet.npy',allow_pickle=True)\n",
    "history_vgg16 = numpy.load('/home/ImageModalityDetector/history_vgg16.npy',allow_pickle=True)\n",
    "\n",
    "# let's plot them\n",
    "plt.figure(figsize=(6.0, 4.0));\n",
    "plt.subplot(121)\n",
    "plt.plot(history_inceptionv3.all()['loss'],'b-s')\n",
    "plt.plot(history_mobilenet.all()['loss'],'r-s')\n",
    "plt.plot(history_vgg16.all()['loss'],'g-s')\n",
    "plt.legend(['InceptionV3',\n",
    "            'MobileNet',\n",
    "            'VGG16'])\n",
    "plt.xlabel('Epochs')\n",
    "plt.ylabel('Loss')\n",
    "plt.ylabel('Loss Plot')\n",
    "\n",
    "plt.subplot(122)\n",
    "plt.plot(history_inceptionv3.all()['categorical_accuracy'],'b-s')\n",
    "plt.plot(history_mobilenet.all()['categorical_accuracy'],'r-s')\n",
    "plt.plot(history_vgg16.all()['categorical_accuracy'],'g-s')\n",
    "plt.legend(['InceptionV3',\n",
    "            'MobileNet',\n",
    "            'VGG16'])\n",
    "plt.xlabel('Epochs')\n",
    "plt.ylabel('Accuracy')\n",
    "plt.title('Accuracy Plot')\n",
    "plt.show()"
   ]
  },
  {
   "cell_type": "markdown",
   "metadata": {
    "id": "ZR8a1wW7QQNZ"
   },
   "source": [
    "**Question 2:** Which network performs the best? Do you think training is complete after 30 epochs?"
   ]
  },
  {
   "cell_type": "markdown",
   "metadata": {
    "id": "iy1xA-nCQQNc"
   },
   "source": [
    "Now let's evaluate some data and see what happens. Let's using the InceptionV3 model and load the existing trained weights:"
   ]
  },
  {
   "cell_type": "code",
   "execution_count": null,
   "metadata": {
    "id": "DKRKnDmqQQNd"
   },
   "outputs": [],
   "source": [
    "model_i = tf.keras.applications.inception_v3.InceptionV3(weights='/home/ImageModalityDetector/weights_inceptionv3.h5', input_shape=(dims,dims,1), classes=classes)\n",
    "model_i.compile(loss=\"categorical_crossentropy\", optimizer=tf.keras.optimizers.Adam(learning_rate=1e-4), metrics=[\"categorical_accuracy\"])"
   ]
  },
  {
   "cell_type": "markdown",
   "metadata": {
    "id": "iTB6Z-u2QQNf"
   },
   "source": [
    "Now let's work on testing the model with some data"
   ]
  },
  {
   "cell_type": "code",
   "execution_count": null,
   "metadata": {
    "id": "p26M_8axQQNf"
   },
   "outputs": [],
   "source": [
    "# let's set up an ImageDataGenerator for the test data\n",
    "test_folder = '/home/ImageModalityDetector/test'\n",
    "test_datagen = tf.keras.preprocessing.image.ImageDataGenerator(rescale=1./255)\n",
    "test_generator = test_datagen.flow_from_directory(test_folder, batch_size=1, target_size=(dims,dims), class_mode='categorical', color_mode='grayscale')"
   ]
  },
  {
   "cell_type": "code",
   "execution_count": null,
   "metadata": {
    "id": "vOoD_NpSQQNh"
   },
   "outputs": [],
   "source": [
    "# get the next image from the generator\n",
    "X,Y = test_generator.next()\n",
    "\n",
    "# visualize the current image\n",
    "plt.figure(figsize=(6.0, 4.0))\n",
    "plt.imshow(X[0,:,:,0],cmap='gray')\n",
    "\n",
    "plt.show()\n",
    "\n",
    "# now predict\n",
    "y = model_i.predict(X)\n",
    "\n",
    "# display the prediction as a printed text message\n",
    "actual_type = [key for key in test_generator.class_indices.items() if key[1] == numpy.argmax(Y)][0][0]\n",
    "predicted_type = [key for key in test_generator.class_indices.items() if key[1] == numpy.argmax(y)][0][0]\n",
    "print('The actual type was {}, the predicted type was {}'.format(actual_type,predicted_type))"
   ]
  },
  {
   "cell_type": "markdown",
   "metadata": {
    "id": "q1nOzDePQQNj"
   },
   "source": [
    "You can re-run the cell above to get the next iteration from the test data generator. Keep running it until you identify several misclassifications of the MRI pulse sequence type."
   ]
  },
  {
   "cell_type": "markdown",
   "metadata": {
    "id": "XAhdflVBQQNk"
   },
   "source": [
    "**Question 3:** When the network failed to identify the pulse sequence type, what characteristics did you notice in the images? For example, what regions of the brain did the algorithm seem to struggle with identifying? Do you think that you could have done better?"
   ]
  },
  {
   "cell_type": "markdown",
   "metadata": {
    "id": "NrJGBztIQQNl"
   },
   "source": [
    "### End of Exercise\n",
    "This is the end of this exercise. If you have extra time and would like to try a few advanced ideas, please consider trying the following:\n",
    "1. Modify the code above to include predictions for MobileNet and VGG16. Perform the analysis on the 3 different networks for each slice. Are failure cases similar between networks?\n",
    "2. Try re-training the MobileNet network without augmentation. Do you notice any differences?\n",
    "3. Try adding different types of augmentation, such as left-right and up-down flips. What about adding more extreme degrees of augmentation? Does this improve network performance?\n",
    "4. Try adding augmentation to the evaluation stage to see how the network performs with augmentation.\n",
    "5. Explore the other types of available Callback functions during model fitting. There are many useful predefined types of callbacks that you can use to get more information from your network during training. Read more about them here: https://keras.io/callbacks/"
   ]
  },
  {
   "cell_type": "code",
   "execution_count": null,
   "metadata": {
    "id": "nLthiaVXQQNl"
   },
   "outputs": [],
   "source": []
  }
 ],
 "metadata": {
  "accelerator": "GPU",
  "celltoolbar": "Raw Cell Format",
  "colab": {
   "name": "MRI_Modality_Detection.ipynb",
   "provenance": [
    {
     "file_id": "https://github.com/kmjohnson3/ML4MI_BootCamp/blob/master/ImageModalityDetector/MRI_Modality_Detection.ipynb",
     "timestamp": 1629472670213
    }
   ],
   "version": ""
  },
  "kernelspec": {
   "display_name": "Python 3",
   "name": "python3"
  },
  "language_info": {
   "codemirror_mode": {
    "name": "ipython",
    "version": 3
   },
   "file_extension": ".py",
   "mimetype": "text/x-python",
   "name": "python",
   "nbconvert_exporter": "python",
   "pygments_lexer": "ipython3",
   "version": "3.6.3"
  }
 },
 "nbformat": 4,
 "nbformat_minor": 0
}
